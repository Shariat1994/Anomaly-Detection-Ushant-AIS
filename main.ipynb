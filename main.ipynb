{
  "nbformat": 4,
  "nbformat_minor": 0,
  "metadata": {
    "colab": {
      "provenance": []
    },
    "kernelspec": {
      "name": "python3",
      "display_name": "Python 3"
    },
    "language_info": {
      "name": "python"
    }
  },
  "cells": [
    {
      "cell_type": "code",
      "execution_count": null,
      "metadata": {
        "colab": {
          "base_uri": "https://localhost:8080/"
        },
        "id": "r82fxE_6hvon",
        "outputId": "fe42042a-9ab2-4c7d-ec48-29e86e1790f8"
      },
      "outputs": [
        {
          "output_type": "stream",
          "name": "stdout",
          "text": [
            "Mounted at /content/drive\n"
          ]
        }
      ],
      "source": [
        "from google.colab import drive\n",
        "drive.mount('/content/drive')"
      ]
    },
    {
      "cell_type": "code",
      "source": [
        "%cd /content/drive/MyDrive/"
      ],
      "metadata": {
        "colab": {
          "base_uri": "https://localhost:8080/"
        },
        "id": "hxq0qzc5lqv5",
        "outputId": "6f280199-e9cd-4102-c794-a1528db59d10"
      },
      "execution_count": null,
      "outputs": [
        {
          "output_type": "stream",
          "name": "stdout",
          "text": [
            "/content/drive/MyDrive\n"
          ]
        }
      ]
    },
    {
      "cell_type": "code",
      "source": [
        "import Config as cfg\n",
        "from DataSet import *\n",
        "from AnomalyDetector import *"
      ],
      "metadata": {
        "id": "qMmC4WnJltNa"
      },
      "execution_count": null,
      "outputs": []
    },
    {
      "cell_type": "code",
      "source": [
        "# Switching back to the original Colab directory\n",
        "%cd /content/"
      ],
      "metadata": {
        "colab": {
          "base_uri": "https://localhost:8080/"
        },
        "id": "keLpGTCrpa_a",
        "outputId": "87a6f109-3f0e-4904-f0fe-7cfabd066224"
      },
      "execution_count": null,
      "outputs": [
        {
          "output_type": "stream",
          "name": "stdout",
          "text": [
            "/content\n"
          ]
        }
      ]
    },
    {
      "cell_type": "markdown",
      "source": [
        "---"
      ],
      "metadata": {
        "id": "LgNvd35W3b0y"
      }
    },
    {
      "cell_type": "markdown",
      "source": [
        "## **1. Download Ushant dataset**"
      ],
      "metadata": {
        "id": "ax0MZ80NzAPv"
      }
    },
    {
      "cell_type": "code",
      "source": [
        "data_obj = DatasetProcessor(cfg.URL, cfg.FILENAME, cfg.FOLDER_PATH, cfg.DATA_FOLDER)"
      ],
      "metadata": {
        "colab": {
          "base_uri": "https://localhost:8080/"
        },
        "id": "2vgme60cnMmH",
        "outputId": "e0f1760b-8345-423a-fe5c-c48c7afce94b"
      },
      "execution_count": null,
      "outputs": [
        {
          "output_type": "stream",
          "name": "stdout",
          "text": [
            "Downloading dataset...\n"
          ]
        }
      ]
    },
    {
      "cell_type": "code",
      "source": [
        "data = data_obj.create_dataframe()\n",
        "\n",
        "data"
      ],
      "metadata": {
        "colab": {
          "base_uri": "https://localhost:8080/",
          "height": 459
        },
        "id": "OkqQb96soms7",
        "outputId": "8d4758b6-e842-4000-81f1-1b50d34871bf"
      },
      "execution_count": null,
      "outputs": [
        {
          "output_type": "stream",
          "name": "stdout",
          "text": [
            "Reading all files ...\n"
          ]
        },
        {
          "output_type": "stream",
          "name": "stderr",
          "text": [
            "100%|██████████| 18603/18603 [00:44<00:00, 415.81it/s]\n"
          ]
        },
        {
          "output_type": "execute_result",
          "data": {
            "text/plain": [
              "                x          y         vx        vy      t\n",
              "0       -4.293253  49.442193 -15.186699 -8.074911      0\n",
              "1       -4.373430  49.413937 -15.363288 -8.168805    757\n",
              "2       -4.388880  49.408430 -15.274993 -8.121858    910\n",
              "3       -4.407648  49.401755 -15.186699 -8.074911   1069\n",
              "4       -4.422477  49.396573 -15.274993 -8.121858   1200\n",
              "...           ...        ...        ...       ...    ...\n",
              "7131988 -4.068565  49.358905  11.741388  7.624946  41968\n",
              "7131989 -4.052942  49.364577  11.741388  7.624946  42149\n",
              "7131990 -4.052423  49.364765  11.741388  7.624946  42157\n",
              "7131991 -4.050432  49.365498  11.825255  7.679411  42180\n",
              "7131992 -4.041045  49.368908  11.741388  7.624946  42289\n",
              "\n",
              "[7131993 rows x 5 columns]"
            ],
            "text/html": [
              "\n",
              "  <div id=\"df-0ce8b9c0-7bdc-49d9-be91-943e36a78714\">\n",
              "    <div class=\"colab-df-container\">\n",
              "      <div>\n",
              "<style scoped>\n",
              "    .dataframe tbody tr th:only-of-type {\n",
              "        vertical-align: middle;\n",
              "    }\n",
              "\n",
              "    .dataframe tbody tr th {\n",
              "        vertical-align: top;\n",
              "    }\n",
              "\n",
              "    .dataframe thead th {\n",
              "        text-align: right;\n",
              "    }\n",
              "</style>\n",
              "<table border=\"1\" class=\"dataframe\">\n",
              "  <thead>\n",
              "    <tr style=\"text-align: right;\">\n",
              "      <th></th>\n",
              "      <th>x</th>\n",
              "      <th>y</th>\n",
              "      <th>vx</th>\n",
              "      <th>vy</th>\n",
              "      <th>t</th>\n",
              "    </tr>\n",
              "  </thead>\n",
              "  <tbody>\n",
              "    <tr>\n",
              "      <th>0</th>\n",
              "      <td>-4.293253</td>\n",
              "      <td>49.442193</td>\n",
              "      <td>-15.186699</td>\n",
              "      <td>-8.074911</td>\n",
              "      <td>0</td>\n",
              "    </tr>\n",
              "    <tr>\n",
              "      <th>1</th>\n",
              "      <td>-4.373430</td>\n",
              "      <td>49.413937</td>\n",
              "      <td>-15.363288</td>\n",
              "      <td>-8.168805</td>\n",
              "      <td>757</td>\n",
              "    </tr>\n",
              "    <tr>\n",
              "      <th>2</th>\n",
              "      <td>-4.388880</td>\n",
              "      <td>49.408430</td>\n",
              "      <td>-15.274993</td>\n",
              "      <td>-8.121858</td>\n",
              "      <td>910</td>\n",
              "    </tr>\n",
              "    <tr>\n",
              "      <th>3</th>\n",
              "      <td>-4.407648</td>\n",
              "      <td>49.401755</td>\n",
              "      <td>-15.186699</td>\n",
              "      <td>-8.074911</td>\n",
              "      <td>1069</td>\n",
              "    </tr>\n",
              "    <tr>\n",
              "      <th>4</th>\n",
              "      <td>-4.422477</td>\n",
              "      <td>49.396573</td>\n",
              "      <td>-15.274993</td>\n",
              "      <td>-8.121858</td>\n",
              "      <td>1200</td>\n",
              "    </tr>\n",
              "    <tr>\n",
              "      <th>...</th>\n",
              "      <td>...</td>\n",
              "      <td>...</td>\n",
              "      <td>...</td>\n",
              "      <td>...</td>\n",
              "      <td>...</td>\n",
              "    </tr>\n",
              "    <tr>\n",
              "      <th>7131988</th>\n",
              "      <td>-4.068565</td>\n",
              "      <td>49.358905</td>\n",
              "      <td>11.741388</td>\n",
              "      <td>7.624946</td>\n",
              "      <td>41968</td>\n",
              "    </tr>\n",
              "    <tr>\n",
              "      <th>7131989</th>\n",
              "      <td>-4.052942</td>\n",
              "      <td>49.364577</td>\n",
              "      <td>11.741388</td>\n",
              "      <td>7.624946</td>\n",
              "      <td>42149</td>\n",
              "    </tr>\n",
              "    <tr>\n",
              "      <th>7131990</th>\n",
              "      <td>-4.052423</td>\n",
              "      <td>49.364765</td>\n",
              "      <td>11.741388</td>\n",
              "      <td>7.624946</td>\n",
              "      <td>42157</td>\n",
              "    </tr>\n",
              "    <tr>\n",
              "      <th>7131991</th>\n",
              "      <td>-4.050432</td>\n",
              "      <td>49.365498</td>\n",
              "      <td>11.825255</td>\n",
              "      <td>7.679411</td>\n",
              "      <td>42180</td>\n",
              "    </tr>\n",
              "    <tr>\n",
              "      <th>7131992</th>\n",
              "      <td>-4.041045</td>\n",
              "      <td>49.368908</td>\n",
              "      <td>11.741388</td>\n",
              "      <td>7.624946</td>\n",
              "      <td>42289</td>\n",
              "    </tr>\n",
              "  </tbody>\n",
              "</table>\n",
              "<p>7131993 rows × 5 columns</p>\n",
              "</div>\n",
              "      <button class=\"colab-df-convert\" onclick=\"convertToInteractive('df-0ce8b9c0-7bdc-49d9-be91-943e36a78714')\"\n",
              "              title=\"Convert this dataframe to an interactive table.\"\n",
              "              style=\"display:none;\">\n",
              "        \n",
              "  <svg xmlns=\"http://www.w3.org/2000/svg\" height=\"24px\"viewBox=\"0 0 24 24\"\n",
              "       width=\"24px\">\n",
              "    <path d=\"M0 0h24v24H0V0z\" fill=\"none\"/>\n",
              "    <path d=\"M18.56 5.44l.94 2.06.94-2.06 2.06-.94-2.06-.94-.94-2.06-.94 2.06-2.06.94zm-11 1L8.5 8.5l.94-2.06 2.06-.94-2.06-.94L8.5 2.5l-.94 2.06-2.06.94zm10 10l.94 2.06.94-2.06 2.06-.94-2.06-.94-.94-2.06-.94 2.06-2.06.94z\"/><path d=\"M17.41 7.96l-1.37-1.37c-.4-.4-.92-.59-1.43-.59-.52 0-1.04.2-1.43.59L10.3 9.45l-7.72 7.72c-.78.78-.78 2.05 0 2.83L4 21.41c.39.39.9.59 1.41.59.51 0 1.02-.2 1.41-.59l7.78-7.78 2.81-2.81c.8-.78.8-2.07 0-2.86zM5.41 20L4 18.59l7.72-7.72 1.47 1.35L5.41 20z\"/>\n",
              "  </svg>\n",
              "      </button>\n",
              "      \n",
              "  <style>\n",
              "    .colab-df-container {\n",
              "      display:flex;\n",
              "      flex-wrap:wrap;\n",
              "      gap: 12px;\n",
              "    }\n",
              "\n",
              "    .colab-df-convert {\n",
              "      background-color: #E8F0FE;\n",
              "      border: none;\n",
              "      border-radius: 50%;\n",
              "      cursor: pointer;\n",
              "      display: none;\n",
              "      fill: #1967D2;\n",
              "      height: 32px;\n",
              "      padding: 0 0 0 0;\n",
              "      width: 32px;\n",
              "    }\n",
              "\n",
              "    .colab-df-convert:hover {\n",
              "      background-color: #E2EBFA;\n",
              "      box-shadow: 0px 1px 2px rgba(60, 64, 67, 0.3), 0px 1px 3px 1px rgba(60, 64, 67, 0.15);\n",
              "      fill: #174EA6;\n",
              "    }\n",
              "\n",
              "    [theme=dark] .colab-df-convert {\n",
              "      background-color: #3B4455;\n",
              "      fill: #D2E3FC;\n",
              "    }\n",
              "\n",
              "    [theme=dark] .colab-df-convert:hover {\n",
              "      background-color: #434B5C;\n",
              "      box-shadow: 0px 1px 3px 1px rgba(0, 0, 0, 0.15);\n",
              "      filter: drop-shadow(0px 1px 2px rgba(0, 0, 0, 0.3));\n",
              "      fill: #FFFFFF;\n",
              "    }\n",
              "  </style>\n",
              "\n",
              "      <script>\n",
              "        const buttonEl =\n",
              "          document.querySelector('#df-0ce8b9c0-7bdc-49d9-be91-943e36a78714 button.colab-df-convert');\n",
              "        buttonEl.style.display =\n",
              "          google.colab.kernel.accessAllowed ? 'block' : 'none';\n",
              "\n",
              "        async function convertToInteractive(key) {\n",
              "          const element = document.querySelector('#df-0ce8b9c0-7bdc-49d9-be91-943e36a78714');\n",
              "          const dataTable =\n",
              "            await google.colab.kernel.invokeFunction('convertToInteractive',\n",
              "                                                     [key], {});\n",
              "          if (!dataTable) return;\n",
              "\n",
              "          const docLinkHtml = 'Like what you see? Visit the ' +\n",
              "            '<a target=\"_blank\" href=https://colab.research.google.com/notebooks/data_table.ipynb>data table notebook</a>'\n",
              "            + ' to learn more about interactive tables.';\n",
              "          element.innerHTML = '';\n",
              "          dataTable['output_type'] = 'display_data';\n",
              "          await google.colab.output.renderOutput(dataTable, element);\n",
              "          const docLink = document.createElement('div');\n",
              "          docLink.innerHTML = docLinkHtml;\n",
              "          element.appendChild(docLink);\n",
              "        }\n",
              "      </script>\n",
              "    </div>\n",
              "  </div>\n",
              "  "
            ]
          },
          "metadata": {},
          "execution_count": 6
        }
      ]
    },
    {
      "cell_type": "code",
      "source": [
        "X_train_location, X_test_location = data_obj.create_location_dataset(data)\n",
        "\n",
        "X_train_location.shape, X_test_location.shape"
      ],
      "metadata": {
        "colab": {
          "base_uri": "https://localhost:8080/"
        },
        "id": "TqjmrwtTnXRt",
        "outputId": "76f21de9-8a28-4a38-fd72-f51838db06f7"
      },
      "execution_count": null,
      "outputs": [
        {
          "output_type": "execute_result",
          "data": {
            "text/plain": [
              "((5705594, 2), (1426399, 2))"
            ]
          },
          "metadata": {},
          "execution_count": 7
        }
      ]
    },
    {
      "cell_type": "code",
      "source": [
        "X_train_velocity, X_test_velocity = data_obj.create_velocity_dataset(data)\n",
        "\n",
        "X_train_velocity.shape, X_test_velocity.shape"
      ],
      "metadata": {
        "colab": {
          "base_uri": "https://localhost:8080/"
        },
        "id": "D946PHMqp6h7",
        "outputId": "bd83d654-f9a7-49d1-bd6b-92018129f3f9"
      },
      "execution_count": null,
      "outputs": [
        {
          "output_type": "execute_result",
          "data": {
            "text/plain": [
              "((5705594, 2), (1426399, 2))"
            ]
          },
          "metadata": {},
          "execution_count": 8
        }
      ]
    },
    {
      "cell_type": "markdown",
      "source": [
        "---"
      ],
      "metadata": {
        "id": "1LctO8hs3Zoj"
      }
    },
    {
      "cell_type": "markdown",
      "source": [
        "##**2. Use a classic method to learn normal behavior from the Ushant AIS data**"
      ],
      "metadata": {
        "id": "Zle4GCkUyano"
      }
    },
    {
      "cell_type": "markdown",
      "source": [
        "**2.1. Classic Location Model**"
      ],
      "metadata": {
        "id": "-il1qvRyznWP"
      }
    },
    {
      "cell_type": "code",
      "source": [
        "classic_location_detector = AnomalyDetectorFactory.anomaly_detector('classic', 'location')"
      ],
      "metadata": {
        "id": "cWQzgnftzSFW"
      },
      "execution_count": null,
      "outputs": []
    },
    {
      "cell_type": "code",
      "source": [
        "classic_location_detector.build_model()\n",
        "classic_location_detector.train_model(X_train_location)"
      ],
      "metadata": {
        "colab": {
          "base_uri": "https://localhost:8080/"
        },
        "id": "8nG-YDy1zaAw",
        "outputId": "bfadce76-b23d-4961-8c1a-4ec38b4ce2e4"
      },
      "execution_count": null,
      "outputs": [
        {
          "output_type": "stream",
          "name": "stdout",
          "text": [
            "Training model...\n",
            "GMM threshold: 77.6363481968473\n"
          ]
        }
      ]
    },
    {
      "cell_type": "markdown",
      "source": [
        "**2.2. Classic Velocity Model**"
      ],
      "metadata": {
        "id": "nd1pFYe3z5up"
      }
    },
    {
      "cell_type": "code",
      "source": [
        "classic_velocity_detector = AnomalyDetectorFactory.anomaly_detector('classic', 'velocity')"
      ],
      "metadata": {
        "id": "qt03zmx5qYeH"
      },
      "execution_count": null,
      "outputs": []
    },
    {
      "cell_type": "code",
      "source": [
        "classic_velocity_detector.build_model()\n",
        "classic_velocity_detector.train_model(X_train_velocity)"
      ],
      "metadata": {
        "colab": {
          "base_uri": "https://localhost:8080/"
        },
        "id": "AxXxuGRFqjX3",
        "outputId": "394645b5-5b74-4ca4-e605-70cae6a2dd76"
      },
      "execution_count": null,
      "outputs": [
        {
          "output_type": "stream",
          "name": "stdout",
          "text": [
            "Training model...\n",
            "GMM threshold: 1.8091808515605594\n"
          ]
        }
      ]
    },
    {
      "cell_type": "markdown",
      "source": [
        "---"
      ],
      "metadata": {
        "id": "eI5CinrZ3XdH"
      }
    },
    {
      "cell_type": "markdown",
      "source": [
        "## **3. Use a machine learning/deep learning-based method to learn normal behavior from the Ushant AIS data**"
      ],
      "metadata": {
        "id": "5DWbsnt00CxV"
      }
    },
    {
      "cell_type": "markdown",
      "source": [
        "**3.1. DL Location Model**"
      ],
      "metadata": {
        "id": "TLn2wH6J0hTu"
      }
    },
    {
      "cell_type": "code",
      "source": [
        "dl_location_detector = AnomalyDetectorFactory.anomaly_detector('deep_learning', 'location')\n",
        "dl_location_detector.build_model(X_train_location.shape[1])"
      ],
      "metadata": {
        "id": "YJn0lLbV0AKt"
      },
      "execution_count": null,
      "outputs": []
    },
    {
      "cell_type": "code",
      "source": [
        "history_location = dl_location_detector.train_model(X_train_location, X_test_location, epochs=20)"
      ],
      "metadata": {
        "colab": {
          "base_uri": "https://localhost:8080/"
        },
        "id": "o7n0aWhG0bDu",
        "outputId": "9a1129ad-ae9a-4692-ef35-0a75a2833b8c"
      },
      "execution_count": null,
      "outputs": [
        {
          "output_type": "stream",
          "name": "stdout",
          "text": [
            "Training model...\n",
            "Epoch 1/20\n",
            "11144/11144 [==============================] - 57s 5ms/step - loss: 0.0022 - val_loss: 0.0012\n",
            "Epoch 2/20\n",
            "11144/11144 [==============================] - 50s 4ms/step - loss: 0.0011 - val_loss: 6.5514e-04\n",
            "Epoch 3/20\n",
            "11144/11144 [==============================] - 48s 4ms/step - loss: 8.7784e-04 - val_loss: 9.8430e-04\n",
            "Epoch 4/20\n",
            "11144/11144 [==============================] - 50s 5ms/step - loss: 7.9621e-04 - val_loss: 7.4958e-04\n",
            "Epoch 5/20\n",
            "11144/11144 [==============================] - 48s 4ms/step - loss: 7.9584e-04 - val_loss: 0.0018\n",
            "Epoch 6/20\n",
            "11144/11144 [==============================] - 51s 5ms/step - loss: 7.9104e-04 - val_loss: 4.0904e-04\n",
            "Epoch 7/20\n",
            "11144/11144 [==============================] - 54s 5ms/step - loss: 6.9083e-04 - val_loss: 5.8720e-04\n",
            "Epoch 8/20\n",
            "11144/11144 [==============================] - 46s 4ms/step - loss: 7.4918e-04 - val_loss: 4.4498e-04\n",
            "Epoch 9/20\n",
            "11144/11144 [==============================] - 49s 4ms/step - loss: 6.7349e-04 - val_loss: 5.7583e-04\n",
            "Epoch 10/20\n",
            "11144/11144 [==============================] - 48s 4ms/step - loss: 6.0250e-04 - val_loss: 4.5353e-04\n",
            "Epoch 11/20\n",
            "11144/11144 [==============================] - 53s 5ms/step - loss: 5.9737e-04 - val_loss: 0.0014\n",
            "Epoch 12/20\n",
            "11144/11144 [==============================] - 53s 5ms/step - loss: 5.7835e-04 - val_loss: 4.1583e-04\n",
            "Epoch 13/20\n",
            "11144/11144 [==============================] - 53s 5ms/step - loss: 5.3938e-04 - val_loss: 6.2022e-04\n",
            "Epoch 14/20\n",
            "11144/11144 [==============================] - 52s 5ms/step - loss: 5.3425e-04 - val_loss: 7.1517e-04\n",
            "Epoch 15/20\n",
            "11144/11144 [==============================] - 54s 5ms/step - loss: 5.1711e-04 - val_loss: 2.6565e-04\n",
            "Epoch 16/20\n",
            "11144/11144 [==============================] - 50s 4ms/step - loss: 4.9880e-04 - val_loss: 8.4965e-04\n",
            "Epoch 17/20\n",
            "11144/11144 [==============================] - 49s 4ms/step - loss: 4.9913e-04 - val_loss: 3.2479e-04\n",
            "Epoch 18/20\n",
            "11144/11144 [==============================] - 57s 5ms/step - loss: 4.9402e-04 - val_loss: 5.5215e-04\n",
            "Epoch 19/20\n",
            "11144/11144 [==============================] - 54s 5ms/step - loss: 4.8497e-04 - val_loss: 2.5547e-04\n",
            "Epoch 20/20\n",
            "11144/11144 [==============================] - 58s 5ms/step - loss: 4.8030e-04 - val_loss: 5.4720e-04\n",
            "178300/178300 [==============================] - 357s 2ms/step\n",
            "Deep learning threshold: 0.0007242955034598708\n"
          ]
        }
      ]
    },
    {
      "cell_type": "markdown",
      "source": [
        "**3.2. DL Velocity Model**"
      ],
      "metadata": {
        "id": "iKRwZhtF0mLM"
      }
    },
    {
      "cell_type": "code",
      "source": [
        "dl_velocity_detector = AnomalyDetectorFactory.anomaly_detector('deep_learning', 'velocity')\n",
        "dl_velocity_detector.build_model(X_train_velocity.shape[1])"
      ],
      "metadata": {
        "id": "c-x1rTz705GD"
      },
      "execution_count": null,
      "outputs": []
    },
    {
      "cell_type": "code",
      "source": [
        "history_velocity = dl_velocity_detector.train_model(X_train_velocity, X_test_velocity, epochs=20)"
      ],
      "metadata": {
        "colab": {
          "base_uri": "https://localhost:8080/"
        },
        "id": "nl_FvSCM1TCk",
        "outputId": "7da3c086-096a-4a35-b18e-7a5698ff5ada"
      },
      "execution_count": null,
      "outputs": [
        {
          "output_type": "stream",
          "name": "stdout",
          "text": [
            "Training model...\n",
            "Epoch 1/20\n",
            "11144/11144 [==============================] - 51s 4ms/step - loss: 0.0040 - val_loss: 0.0036\n",
            "Epoch 2/20\n",
            "11144/11144 [==============================] - 54s 5ms/step - loss: 0.0021 - val_loss: 0.0014\n",
            "Epoch 3/20\n",
            "11144/11144 [==============================] - 47s 4ms/step - loss: 0.0020 - val_loss: 0.0014\n",
            "Epoch 4/20\n",
            "11144/11144 [==============================] - 46s 4ms/step - loss: 0.0019 - val_loss: 0.0016\n",
            "Epoch 5/20\n",
            "11144/11144 [==============================] - 49s 4ms/step - loss: 0.0019 - val_loss: 0.0020\n",
            "Epoch 6/20\n",
            "11144/11144 [==============================] - 49s 4ms/step - loss: 0.0017 - val_loss: 0.0016\n",
            "Epoch 7/20\n",
            "11144/11144 [==============================] - 51s 5ms/step - loss: 0.0016 - val_loss: 0.0024\n",
            "Epoch 8/20\n",
            "11144/11144 [==============================] - 51s 5ms/step - loss: 0.0016 - val_loss: 0.0012\n",
            "Epoch 9/20\n",
            "11144/11144 [==============================] - 48s 4ms/step - loss: 0.0015 - val_loss: 0.0019\n",
            "Epoch 10/20\n",
            "11144/11144 [==============================] - 49s 4ms/step - loss: 0.0015 - val_loss: 0.0019\n",
            "Epoch 11/20\n",
            "11144/11144 [==============================] - 49s 4ms/step - loss: 0.0015 - val_loss: 0.0019\n",
            "Epoch 12/20\n",
            "11144/11144 [==============================] - 48s 4ms/step - loss: 0.0014 - val_loss: 0.0011\n",
            "Epoch 13/20\n",
            "11144/11144 [==============================] - 55s 5ms/step - loss: 0.0014 - val_loss: 0.0011\n",
            "Epoch 14/20\n",
            "11144/11144 [==============================] - 55s 5ms/step - loss: 0.0014 - val_loss: 9.9345e-04\n",
            "Epoch 15/20\n",
            "11144/11144 [==============================] - 53s 5ms/step - loss: 0.0013 - val_loss: 9.9808e-04\n",
            "Epoch 16/20\n",
            "11144/11144 [==============================] - 55s 5ms/step - loss: 0.0013 - val_loss: 7.0410e-04\n",
            "Epoch 17/20\n",
            "11144/11144 [==============================] - 49s 4ms/step - loss: 0.0012 - val_loss: 0.0011\n",
            "Epoch 18/20\n",
            "11144/11144 [==============================] - 47s 4ms/step - loss: 0.0012 - val_loss: 5.9599e-04\n",
            "Epoch 19/20\n",
            "11144/11144 [==============================] - 50s 5ms/step - loss: 0.0012 - val_loss: 9.9835e-04\n",
            "Epoch 20/20\n",
            "11144/11144 [==============================] - 51s 5ms/step - loss: 0.0012 - val_loss: 0.0016\n",
            "178300/178300 [==============================] - 318s 2ms/step\n",
            "Deep learning threshold: 0.0022991541773080826\n"
          ]
        }
      ]
    },
    {
      "cell_type": "markdown",
      "source": [
        "---"
      ],
      "metadata": {
        "id": "-eJ_hEIpAdCo"
      }
    },
    {
      "cell_type": "markdown",
      "source": [
        "**plot train history**"
      ],
      "metadata": {
        "id": "Ow9poXFp4fVl"
      }
    },
    {
      "cell_type": "code",
      "source": [
        "import matplotlib.pyplot as plt\n",
        "\n",
        "def plot_history(history, tilte):\n",
        "    # Plot the history of the model\n",
        "    plt.plot(history.history['loss'], label='Training Loss')\n",
        "    plt.plot(history.history['val_loss'], label='Validation Loss')\n",
        "    plt.xlabel('Epochs')\n",
        "    plt.ylabel('Loss')\n",
        "    plt.title(tilte)\n",
        "    plt.legend()\n",
        "    plt.show()"
      ],
      "metadata": {
        "id": "sDmPqFHi38Wm"
      },
      "execution_count": null,
      "outputs": []
    },
    {
      "cell_type": "code",
      "source": [
        "plot_history(history_location,'DL Location-Based Model Training History')"
      ],
      "metadata": {
        "colab": {
          "base_uri": "https://localhost:8080/",
          "height": 472
        },
        "id": "WOw8J3hd4Xtt",
        "outputId": "cb53b904-6034-43a5-bb9e-4140dfa8e7f9"
      },
      "execution_count": null,
      "outputs": [
        {
          "output_type": "display_data",
          "data": {
            "text/plain": [
              "<Figure size 640x480 with 1 Axes>"
            ],
            "image/png": "[encoded data removed]"
          },
          "metadata": {}
        }
      ]
    },
    {
      "cell_type": "code",
      "source": [
        "plot_history(history_velocity,'DL Velocity-Based Model Training History')"
      ],
      "metadata": {
        "colab": {
          "base_uri": "https://localhost:8080/",
          "height": 472
        },
        "id": "Sc7dFYXw4t3t",
        "outputId": "cd377bbf-b6a0-443d-f63e-78901f233e3a"
      },
      "execution_count": null,
      "outputs": [
        {
          "output_type": "display_data",
          "data": {
            "text/plain": [
              "<Figure size 640x480 with 1 Axes>"
            ],
            "image/png": "[encoded data removed]"
          },
          "metadata": {}
        }
      ]
    },
    {
      "cell_type": "markdown",
      "source": [
        "---"
      ],
      "metadata": {
        "id": "9BIMUpxG3UxP"
      }
    },
    {
      "cell_type": "markdown",
      "source": [
        "## **4. Generate synthetic abnormal trajectories with two types of abnormal behavior: location-based anomaly and velocity-based anomaly (At least 15 synthetic trajectories)**"
      ],
      "metadata": {
        "id": "Yf2G4WSewgCO"
      }
    },
    {
      "cell_type": "code",
      "source": [
        "def gen_synthetic_abnormal_trajectories(df):\n",
        "    xy_max = data[['x','y']].max().max()\n",
        "    v_max = data[['vx','vy']].max().max()\n",
        "\n",
        "    # Generate a random 2D array between 100 and 200\n",
        "    abnormal_xy = np.random.uniform(xy_max, 2*xy_max, size=(15, 2))\n",
        "    abnormal_v  = np.random.uniform(v_max, 2*v_max, size=(15, 2))\n",
        "\n",
        "    print(f\"-abnormal_xy: \\n {abnormal_xy}\\n\")\n",
        "    print(f\"-abnormal_v:  \\n {abnormal_v}\")\n",
        "\n",
        "    return abnormal_xy, abnormal_v"
      ],
      "metadata": {
        "id": "vkNz5rHDwU63"
      },
      "execution_count": null,
      "outputs": []
    },
    {
      "cell_type": "code",
      "source": [
        "abnormal_xy, abnormal_v = gen_synthetic_abnormal_trajectories(data)"
      ],
      "metadata": {
        "colab": {
          "base_uri": "https://localhost:8080/"
        },
        "id": "y7ynUWilxzlQ",
        "outputId": "dd32682c-e77f-4585-ce5b-88c21a84a7a2"
      },
      "execution_count": null,
      "outputs": [
        {
          "output_type": "stream",
          "name": "stdout",
          "text": [
            "-abnormal_xy: \n",
            " [[375.19381009 291.63752724]\n",
            " [417.85614461 253.4222644 ]\n",
            " [320.96484744 230.02838404]\n",
            " [335.74354111 236.97167005]\n",
            " [352.25388659 342.02291165]\n",
            " [260.07193758 357.28607346]\n",
            " [344.48900209 402.61628608]\n",
            " [422.73513578 383.80750479]\n",
            " [274.11142696 412.34302779]\n",
            " [375.49333514 286.98203007]\n",
            " [423.51565807 268.66793182]\n",
            " [219.90619646 214.90343388]\n",
            " [302.77770006 358.7942633 ]\n",
            " [417.95080225 307.84894351]\n",
            " [272.38483115 393.48842542]]\n",
            "\n",
            "-abnormal_v:  \n",
            " [[40.16477221 36.35834655]\n",
            " [46.88085491 50.08908167]\n",
            " [48.7564107  46.28812017]\n",
            " [44.25361192 49.38981491]\n",
            " [55.81460781 53.97990022]\n",
            " [51.25878636 42.20324539]\n",
            " [30.03962666 44.36341394]\n",
            " [42.6581963  38.87091513]\n",
            " [35.58444408 33.77362758]\n",
            " [34.1529569  48.07217856]\n",
            " [54.53927961 30.04086895]\n",
            " [43.22618697 47.09061758]\n",
            " [39.92922349 37.14038101]\n",
            " [28.59674709 51.03553547]\n",
            " [41.888117   36.14792161]]\n"
          ]
        }
      ]
    },
    {
      "cell_type": "markdown",
      "source": [
        "---"
      ],
      "metadata": {
        "id": "RV7ilYj73SWy"
      }
    },
    {
      "cell_type": "markdown",
      "source": [
        "## **5. Test the trained models on synthetic data and report results**"
      ],
      "metadata": {
        "id": "QgOYzRa116lj"
      }
    },
    {
      "cell_type": "markdown",
      "source": [
        "**5.1. classic location-based anomaly**"
      ],
      "metadata": {
        "id": "gyLttIMk2jpg"
      }
    },
    {
      "cell_type": "code",
      "source": [
        "classic_location_detector.detect_anomalies(abnormal_xy)"
      ],
      "metadata": {
        "colab": {
          "base_uri": "https://localhost:8080/"
        },
        "id": "QdVgch9n2AYK",
        "outputId": "2e76c887-b732-49d4-f3d9-fc92f6ab92d5"
      },
      "execution_count": null,
      "outputs": [
        {
          "output_type": "stream",
          "name": "stdout",
          "text": [
            "Scaler loaded successfully.\n",
            "[0.76267386 0.38864592] Data point at index 0 is Abnormal !!!\n",
            "[0.97220407 0.19509172] Data point at index 1 is Abnormal !!!\n",
            "[0.49633573 0.07660546] Data point at index 2 is Abnormal !!!\n",
            "[0.56891926 0.11177209] Data point at index 3 is Abnormal !!!\n",
            "[0.65000756 0.64383985] Data point at index 4 is Abnormal !!!\n",
            "[0.19726854 0.72114532] Data point at index 5 is Abnormal !!!\n",
            "[0.6118714  0.95073561] Data point at index 6 is Abnormal !!!\n",
            "[0.99616657 0.85547213] Data point at index 7 is Abnormal !!!\n",
            "[0.26622157 1.        ] Data point at index 8 is Abnormal !!!\n",
            "[0.76414493 0.36506657] Data point at index 9 is Abnormal !!!\n",
            "[1.         0.27230859] Data point at index 10 is Abnormal !!!\n",
            "[0. 0.] Data point at index 11 is Abnormal !!!\n",
            "[0.40701205 0.72878406] Data point at index 12 is Abnormal !!!\n",
            "[0.97266897 0.47075416] Data point at index 13 is Abnormal !!!\n",
            "[0.25774163 0.90450445] Data point at index 14 is Abnormal !!!\n"
          ]
        }
      ]
    },
    {
      "cell_type": "markdown",
      "source": [
        "**5.2. classic velocity-based anomaly**"
      ],
      "metadata": {
        "id": "Y4ua3qXP2YWo"
      }
    },
    {
      "cell_type": "code",
      "source": [
        "classic_velocity_detector.detect_anomalies(abnormal_v)"
      ],
      "metadata": {
        "colab": {
          "base_uri": "https://localhost:8080/"
        },
        "id": "MlcYdvkI2AOa",
        "outputId": "75853e77-847b-4f53-b203-99401eafb71a"
      },
      "execution_count": null,
      "outputs": [
        {
          "output_type": "stream",
          "name": "stdout",
          "text": [
            "Scaler loaded successfully.\n",
            "[0.42501596 0.26389863] Data point at index 0 is Abnormal !!!\n",
            "[0.67176873 0.83746967] Data point at index 1 is Abnormal !!!\n",
            "[0.74067774 0.67869293] Data point at index 2 is Abnormal !!!\n",
            "[0.5752423  0.80825935] Data point at index 3 is Abnormal !!!\n",
            "[1. 1.] Data point at index 4 is Abnormal !!!\n",
            "[0.83261648 0.50805633] Data point at index 5 is Abnormal !!!\n",
            "[0.05301223 0.59829259] Data point at index 6 is Abnormal !!!\n",
            "[0.51662581 0.36885562] Data point at index 7 is Abnormal !!!\n",
            "[0.25673204 0.15592772] Data point at index 8 is Abnormal !!!\n",
            "[0.20413837 0.75321801] Data point at index 9 is Abnormal !!!\n",
            "[0.9531437 0.       ] Data point at index 10 is Abnormal !!!\n",
            "[0.53749411 0.71221548] Data point at index 11 is Abnormal !!!\n",
            "[0.41636176 0.29656639] Data point at index 12 is Abnormal !!!\n",
            "[0.         0.87700569] Data point at index 13 is Abnormal !!!\n",
            "[0.48833264 0.2551086 ] Data point at index 14 is Abnormal !!!\n"
          ]
        }
      ]
    },
    {
      "cell_type": "markdown",
      "source": [
        "**5.3. DL location-based anomaly**"
      ],
      "metadata": {
        "id": "9_oO4gCv2p4f"
      }
    },
    {
      "cell_type": "code",
      "source": [
        "dl_location_detector.detect_anomalies(abnormal_xy)"
      ],
      "metadata": {
        "colab": {
          "base_uri": "https://localhost:8080/"
        },
        "id": "uhvxltAH2AEa",
        "outputId": "21ee7947-2ea4-4350-84aa-55bbf8aa9296"
      },
      "execution_count": null,
      "outputs": [
        {
          "output_type": "stream",
          "name": "stdout",
          "text": [
            "Scaler loaded successfully.\n",
            "1/1 [==============================] - 0s 75ms/step\n",
            "Data point at index 0 is Abnormal\n",
            "Data point at index 1 is Abnormal\n",
            "Data point at index 2 is Abnormal\n",
            "Data point at index 3 is Abnormal\n",
            "Data point at index 4 is Abnormal\n",
            "Data point at index 5 is Normal\n",
            "Data point at index 6 is Abnormal\n",
            "Data point at index 7 is Abnormal\n",
            "Data point at index 8 is Abnormal\n",
            "Data point at index 9 is Abnormal\n",
            "Data point at index 10 is Abnormal\n",
            "Data point at index 11 is Abnormal\n",
            "Data point at index 12 is Normal\n",
            "Data point at index 13 is Abnormal\n",
            "Data point at index 14 is Abnormal\n"
          ]
        }
      ]
    },
    {
      "cell_type": "markdown",
      "source": [
        "**5.4. classic velocity-based anomaly**"
      ],
      "metadata": {
        "id": "odVZyPfT2fdh"
      }
    },
    {
      "cell_type": "code",
      "source": [
        "dl_velocity_detector.detect_anomalies(abnormal_v)"
      ],
      "metadata": {
        "colab": {
          "base_uri": "https://localhost:8080/"
        },
        "id": "b_cDndnA1_zC",
        "outputId": "31516db0-b881-4eec-9926-731524bcc601"
      },
      "execution_count": null,
      "outputs": [
        {
          "output_type": "stream",
          "name": "stdout",
          "text": [
            "Scaler loaded successfully.\n",
            "1/1 [==============================] - 0s 73ms/step\n",
            "Data point at index 0 is Normal\n",
            "Data point at index 1 is Normal\n",
            "Data point at index 2 is Normal\n",
            "Data point at index 3 is Normal\n",
            "Data point at index 4 is Abnormal\n",
            "Data point at index 5 is Normal\n",
            "Data point at index 6 is Normal\n",
            "Data point at index 7 is Normal\n",
            "Data point at index 8 is Normal\n",
            "Data point at index 9 is Normal\n",
            "Data point at index 10 is Abnormal\n",
            "Data point at index 11 is Normal\n",
            "Data point at index 12 is Normal\n",
            "Data point at index 13 is Abnormal\n",
            "Data point at index 14 is Normal\n"
          ]
        }
      ]
    }
  ]
}